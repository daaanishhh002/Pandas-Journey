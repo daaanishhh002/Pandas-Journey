{
 "cells": [
  {
   "cell_type": "markdown",
   "id": "24a524ba-2a74-485b-b7df-381acc8902ce",
   "metadata": {},
   "source": [
    "**Importing Libraries**"
   ]
  },
  {
   "cell_type": "code",
   "execution_count": null,
   "id": "c2dc8c28-1717-4ee7-9866-bf35bace4827",
   "metadata": {},
   "outputs": [],
   "source": [
    "import pandas as pd\n",
    "import numpy as np\n",
    "from datetime import datetime, timedelta"
   ]
  },
  {
   "cell_type": "code",
   "execution_count": null,
   "id": "16de1efd-202b-4de9-87ea-4174642cd825",
   "metadata": {
    "tags": []
   },
   "outputs": [],
   "source": [
    "import matplotlib.pyplot as plt\n",
    "plt.style.use('ggplot')"
   ]
  },
  {
   "cell_type": "code",
   "execution_count": null,
   "id": "7b86d774-55ae-4019-baae-1cfb4ffda579",
   "metadata": {},
   "outputs": [],
   "source": [
    "pd.__version__"
   ]
  },
  {
   "cell_type": "code",
   "execution_count": null,
   "id": "576ec876-c453-4b72-9787-6cf621761056",
   "metadata": {},
   "outputs": [],
   "source": [
    "np.__version__"
   ]
  },
  {
   "cell_type": "markdown",
   "id": "a658c737-c12f-472f-b1ef-e079f3ecf975",
   "metadata": {
    "jp-MarkdownHeadingCollapsed": true,
    "tags": []
   },
   "source": [
    "## Creating a Sample Dataframe"
   ]
  },
  {
   "cell_type": "markdown",
   "id": "58bd9560-4f43-4470-b0d1-c770e8adf719",
   "metadata": {},
   "source": [
    "**Generating Names**"
   ]
  },
  {
   "cell_type": "code",
   "execution_count": 8,
   "id": "355f8f31-c78f-4a7c-b480-fb00f6524a73",
   "metadata": {},
   "outputs": [
    {
     "name": "stdout",
     "output_type": "stream",
     "text": [
      "None\n"
     ]
    }
   ],
   "source": [
    "first = ['Alex','Harry','Hannah','Charlie','Emma','Emily','Anastasia','Mac','Joe','Harold']\n",
    "last = ['James','Clarkson','Chalamet','Roland','Tomlinson','Payne','Steele','Grey','Robertson','Miller']\n",
    "\n",
    "# combination\n",
    "names = []\n",
    "for i in first:\n",
    "    for j in last:\n",
    "        name = i+' '+j\n",
    "        names.append(name)\n",
    "\n",
    "print(np.random.shuffle(names))"
   ]
  },
  {
   "cell_type": "markdown",
   "id": "74ed4c8e-15c3-4211-a2dd-b7a52b5ab7f9",
   "metadata": {},
   "source": [
    "**Generating Countries**"
   ]
  },
  {
   "cell_type": "code",
   "execution_count": 9,
   "id": "f4b2e21f-42d3-45ab-ab9b-84f881a62360",
   "metadata": {
    "tags": []
   },
   "outputs": [],
   "source": [
    "countries = ['America','England','Wales','Ireland','Scotland','India','Emirates','Pakistan','Palestine','Egypt']"
   ]
  },
  {
   "cell_type": "markdown",
   "id": "d7343f05-de53-4003-9982-248802653651",
   "metadata": {},
   "source": [
    "**Generating Dates**"
   ]
  },
  {
   "cell_type": "code",
   "execution_count": 10,
   "id": "9bc812b9-11cb-456c-8ff5-c82a6336778d",
   "metadata": {},
   "outputs": [
    {
     "data": {
      "text/plain": [
       "datetime.datetime(2000, 4, 25, 0, 0)"
      ]
     },
     "execution_count": 10,
     "metadata": {},
     "output_type": "execute_result"
    }
   ],
   "source": [
    "def random_date(start, end):\n",
    "    delta = end - start\n",
    "    random_days = np.random.randint(0, delta.days)\n",
    "    return start + timedelta(days=random_days)\n",
    "\n",
    "random_date(datetime(1960,1,1),datetime(2012,12,31))"
   ]
  },
  {
   "cell_type": "markdown",
   "id": "e9984479-842c-4c1e-9d7e-13c13e2bfb7a",
   "metadata": {},
   "source": [
    "**Generating a Dataframe**"
   ]
  },
  {
   "cell_type": "code",
   "execution_count": 11,
   "id": "b6aa1787-2eff-4579-9e42-858a42e0186e",
   "metadata": {},
   "outputs": [],
   "source": [
    "num_rows = 500\n",
    "np.random.seed(454)\n",
    "\n",
    "data = {\n",
    "    'ID': list(range(100_001,100_000+num_rows+1)),\n",
    "    'Name': [np.random.choice(names) for _ in range(num_rows)],\n",
    "    'Age': [np.random.randint(20, 80) for _ in range(num_rows)],\n",
    "    'Gender': [np.random.choice(['Male','Female']) for _ in range(num_rows)],\n",
    "    'Country': [np.random.choice(countries) for _ in range(num_rows)],\n",
    "    'Height': [np.random.uniform(150, 200) for _ in range(num_rows)],\n",
    "    'Weight': [np.random.uniform(50, 100) for _ in range(num_rows)],\n",
    "    'IsStudent': [np.random.choice([True,False]) for _ in range(num_rows)],\n",
    "    'Score': [np.int32(np.random.normal(100, 15)) for _ in range(num_rows)],\n",
    "    'Grade': [np.random.choice(['A','B','C','D','E','F']) for _ in range(num_rows)],\n",
    "    'Birthdate': [random_date(datetime(1960,1,1),datetime(2012,12,31)) for _ in range(num_rows)],\n",
    "}"
   ]
  },
  {
   "cell_type": "code",
   "execution_count": 12,
   "id": "293abf31-0436-4d4e-9891-ab1a01fd4e7a",
   "metadata": {},
   "outputs": [
    {
     "data": {
      "text/html": [
       "<div>\n",
       "<style scoped>\n",
       "    .dataframe tbody tr th:only-of-type {\n",
       "        vertical-align: middle;\n",
       "    }\n",
       "\n",
       "    .dataframe tbody tr th {\n",
       "        vertical-align: top;\n",
       "    }\n",
       "\n",
       "    .dataframe thead th {\n",
       "        text-align: right;\n",
       "    }\n",
       "</style>\n",
       "<table border=\"1\" class=\"dataframe\">\n",
       "  <thead>\n",
       "    <tr style=\"text-align: right;\">\n",
       "      <th></th>\n",
       "      <th>ID</th>\n",
       "      <th>Name</th>\n",
       "      <th>Age</th>\n",
       "      <th>Gender</th>\n",
       "      <th>Country</th>\n",
       "      <th>Height</th>\n",
       "      <th>Weight</th>\n",
       "      <th>IsStudent</th>\n",
       "      <th>Score</th>\n",
       "      <th>Grade</th>\n",
       "      <th>Birthdate</th>\n",
       "    </tr>\n",
       "  </thead>\n",
       "  <tbody>\n",
       "    <tr>\n",
       "      <th>0</th>\n",
       "      <td>100001</td>\n",
       "      <td>Harry Payne</td>\n",
       "      <td>63</td>\n",
       "      <td>Female</td>\n",
       "      <td>Pakistan</td>\n",
       "      <td>166.243390</td>\n",
       "      <td>94.961548</td>\n",
       "      <td>False</td>\n",
       "      <td>110</td>\n",
       "      <td>D</td>\n",
       "      <td>1973-08-31</td>\n",
       "    </tr>\n",
       "    <tr>\n",
       "      <th>1</th>\n",
       "      <td>100002</td>\n",
       "      <td>Emily Roland</td>\n",
       "      <td>43</td>\n",
       "      <td>Female</td>\n",
       "      <td>Scotland</td>\n",
       "      <td>153.720175</td>\n",
       "      <td>51.508408</td>\n",
       "      <td>True</td>\n",
       "      <td>106</td>\n",
       "      <td>E</td>\n",
       "      <td>1970-10-13</td>\n",
       "    </tr>\n",
       "    <tr>\n",
       "      <th>2</th>\n",
       "      <td>100003</td>\n",
       "      <td>Alex Steele</td>\n",
       "      <td>21</td>\n",
       "      <td>Female</td>\n",
       "      <td>Ireland</td>\n",
       "      <td>163.968037</td>\n",
       "      <td>70.602036</td>\n",
       "      <td>True</td>\n",
       "      <td>79</td>\n",
       "      <td>A</td>\n",
       "      <td>1972-06-20</td>\n",
       "    </tr>\n",
       "    <tr>\n",
       "      <th>3</th>\n",
       "      <td>100004</td>\n",
       "      <td>Mac Clarkson</td>\n",
       "      <td>60</td>\n",
       "      <td>Female</td>\n",
       "      <td>Emirates</td>\n",
       "      <td>172.111597</td>\n",
       "      <td>69.342162</td>\n",
       "      <td>True</td>\n",
       "      <td>73</td>\n",
       "      <td>F</td>\n",
       "      <td>1984-10-17</td>\n",
       "    </tr>\n",
       "    <tr>\n",
       "      <th>4</th>\n",
       "      <td>100005</td>\n",
       "      <td>Anastasia Payne</td>\n",
       "      <td>39</td>\n",
       "      <td>Male</td>\n",
       "      <td>Ireland</td>\n",
       "      <td>182.232617</td>\n",
       "      <td>56.874504</td>\n",
       "      <td>False</td>\n",
       "      <td>77</td>\n",
       "      <td>C</td>\n",
       "      <td>1998-05-08</td>\n",
       "    </tr>\n",
       "  </tbody>\n",
       "</table>\n",
       "</div>"
      ],
      "text/plain": [
       "       ID             Name  Age  Gender   Country      Height     Weight  \\\n",
       "0  100001      Harry Payne   63  Female  Pakistan  166.243390  94.961548   \n",
       "1  100002     Emily Roland   43  Female  Scotland  153.720175  51.508408   \n",
       "2  100003      Alex Steele   21  Female   Ireland  163.968037  70.602036   \n",
       "3  100004     Mac Clarkson   60  Female  Emirates  172.111597  69.342162   \n",
       "4  100005  Anastasia Payne   39    Male   Ireland  182.232617  56.874504   \n",
       "\n",
       "   IsStudent  Score Grade  Birthdate  \n",
       "0      False    110     D 1973-08-31  \n",
       "1       True    106     E 1970-10-13  \n",
       "2       True     79     A 1972-06-20  \n",
       "3       True     73     F 1984-10-17  \n",
       "4      False     77     C 1998-05-08  "
      ]
     },
     "execution_count": 12,
     "metadata": {},
     "output_type": "execute_result"
    }
   ],
   "source": [
    "test_df = pd.DataFrame(data)\n",
    "test_df.head()"
   ]
  },
  {
   "cell_type": "markdown",
   "id": "1742ebb1-e654-4b46-9442-41a39001f457",
   "metadata": {
    "tags": []
   },
   "source": [
    "---\n",
    "\n",
    "# Pandas\n",
    "\n",
    "[Pandas Docs](https://pandas.pydata.org/docs/index.html#)"
   ]
  },
  {
   "cell_type": "markdown",
   "id": "b81d0898-48c1-4bab-ae89-6ce043b28ff6",
   "metadata": {},
   "source": [
    "Pandas is a popular open-source Python library designed to provide easy-to-use data structures and data analysis tools. It serves as a powerful and flexible tool for handling structured data, making it a go-to choice for data manipulation, cleaning, and exploration in data science and analysis projects. At its core, Pandas utilizes two primary data structures: Series (1-dimensional labeled array) and DataFrame (2-dimensional labeled tabular data structure). Under the hood, Pandas leverages the NumPy library for efficient numerical computations, which makes it capable of handling large datasets with high performance. Pandas allows users to perform a wide range of operations, such as filtering, grouping, merging, reshaping, and more, making it an indispensable tool for working with structured data in Python."
   ]
  },
  {
   "cell_type": "markdown",
   "id": "b51bc1a3-de70-47b4-b14a-5e6c4be03851",
   "metadata": {
    "jp-MarkdownHeadingCollapsed": true,
    "tags": []
   },
   "source": [
    "## Creating Dataframes"
   ]
  },
  {
   "cell_type": "code",
   "execution_count": null,
   "id": "e9dbe39a-6bc3-4ab1-80bb-a52f1a4f4e36",
   "metadata": {},
   "outputs": [],
   "source": [
    "# from dictionary of lists\n",
    "data = {\n",
    "    'name': ['James','Jackson','Miley','Janet','Kulsum'],\n",
    "    'age': [17,13,25,24,19],\n",
    "    'country': ['USA','London','Canada','Georgia','India'],\n",
    "    'occupation': ['student','student','artist','nurse','doctor'],\n",
    "}\n",
    "\n",
    "df = pd.DataFrame(data)\n",
    "df.head()"
   ]
  },
  {
   "cell_type": "code",
   "execution_count": null,
   "id": "9c2e9336-13e7-4f98-9415-0b7e52f71475",
   "metadata": {},
   "outputs": [],
   "source": [
    "# from csv\n",
    "url = \"https://raw.githubusercontent.com/datasciencedojo/datasets/master/titanic.csv\"\n",
    "df = pd.read_csv(url)\n",
    "df.head()"
   ]
  },
  {
   "cell_type": "markdown",
   "id": "b2e8ee82-0e6b-49dc-b05d-27b16c26c517",
   "metadata": {},
   "source": [
    "**Head Stats of Dataframes**"
   ]
  },
  {
   "cell_type": "code",
   "execution_count": null,
   "id": "dba6a896-260b-4f80-8bf8-f8e1d681ea48",
   "metadata": {},
   "outputs": [],
   "source": [
    "test_df.shape"
   ]
  },
  {
   "cell_type": "code",
   "execution_count": null,
   "id": "688fc849-6d2a-42c0-a6b7-3f2c95b66cf5",
   "metadata": {},
   "outputs": [],
   "source": [
    "test_df.size"
   ]
  },
  {
   "cell_type": "code",
   "execution_count": null,
   "id": "3a0962af-b51f-44a8-9d5d-250eed88a712",
   "metadata": {},
   "outputs": [],
   "source": [
    "test_df.max()"
   ]
  },
  {
   "cell_type": "code",
   "execution_count": null,
   "id": "f2e65422-6086-4d60-9e7d-db3e575f1830",
   "metadata": {},
   "outputs": [],
   "source": [
    "test_df.mean()"
   ]
  },
  {
   "cell_type": "code",
   "execution_count": null,
   "id": "c5842d1c-0d17-4efb-a80a-91afeac9d6bc",
   "metadata": {},
   "outputs": [],
   "source": [
    "test_df.min()"
   ]
  },
  {
   "cell_type": "code",
   "execution_count": null,
   "id": "6bbf5c62-3dfb-4750-9397-234f19e5a122",
   "metadata": {},
   "outputs": [],
   "source": [
    "test_df.info()"
   ]
  },
  {
   "cell_type": "code",
   "execution_count": null,
   "id": "cb9b9b73-83ab-4ea0-828a-a2d35ec3b07d",
   "metadata": {},
   "outputs": [],
   "source": [
    "test_df.dtypes"
   ]
  },
  {
   "cell_type": "code",
   "execution_count": null,
   "id": "a073a40f-898b-4f22-842c-77df34b5ae4d",
   "metadata": {},
   "outputs": [],
   "source": [
    "test_df.describe()"
   ]
  },
  {
   "cell_type": "code",
   "execution_count": null,
   "id": "7a3643e1-7a76-4fc4-9bed-7f7b4a9ea8d4",
   "metadata": {
    "tags": []
   },
   "outputs": [],
   "source": [
    "test_df.nunique()"
   ]
  },
  {
   "cell_type": "markdown",
   "id": "a5f8471b-80cd-468d-999c-3dd93b134603",
   "metadata": {
    "jp-MarkdownHeadingCollapsed": true,
    "tags": []
   },
   "source": [
    "## Accessing the Dataframe"
   ]
  },
  {
   "cell_type": "markdown",
   "id": "88342c5a-c137-40fe-a419-dbff1000be12",
   "metadata": {},
   "source": [
    "**Accessing Columns**"
   ]
  },
  {
   "cell_type": "code",
   "execution_count": null,
   "id": "5eb51b02-4341-41a6-a5e6-18327f5a80ee",
   "metadata": {},
   "outputs": [],
   "source": [
    "test_df.columns"
   ]
  },
  {
   "cell_type": "code",
   "execution_count": null,
   "id": "27c6ce72-035a-4d00-ba8d-dee6d2ffcf08",
   "metadata": {},
   "outputs": [],
   "source": [
    "test_df['Age']"
   ]
  },
  {
   "cell_type": "code",
   "execution_count": null,
   "id": "43a8680b-9b39-46f0-96ce-dc616a6c6cf0",
   "metadata": {},
   "outputs": [],
   "source": [
    "test_df[['Name','Grade']]"
   ]
  },
  {
   "cell_type": "code",
   "execution_count": null,
   "id": "7117c241-dedf-4e19-b1ce-0db7fba7d998",
   "metadata": {},
   "outputs": [],
   "source": [
    "# iloc[row_no,column_no] - integer location\n",
    "test_df.iloc[:,1:]"
   ]
  },
  {
   "cell_type": "code",
   "execution_count": null,
   "id": "3dd54099-b84f-4760-8a05-33ed6ef8e111",
   "metadata": {},
   "outputs": [],
   "source": [
    "# loc[row_no,column_name] \n",
    "test_df.loc[:,'Age':]"
   ]
  },
  {
   "cell_type": "code",
   "execution_count": null,
   "id": "4a4c3cba-824f-4b5f-a4b2-df46a1484bba",
   "metadata": {},
   "outputs": [],
   "source": [
    "# counting each category in select column\n",
    "test_df['Grade'].value_counts()"
   ]
  },
  {
   "cell_type": "code",
   "execution_count": null,
   "id": "ee5dc95e-075d-40b9-90e5-4b3472add093",
   "metadata": {},
   "outputs": [],
   "source": [
    "test_df['Height'].count()"
   ]
  },
  {
   "cell_type": "markdown",
   "id": "0b002502-e8f4-4bf0-96f0-fd5e6d8ceb3a",
   "metadata": {},
   "source": [
    "**Accessing Rows**"
   ]
  },
  {
   "cell_type": "code",
   "execution_count": null,
   "id": "47c60b1c-3513-4f9c-ac65-730e640558bd",
   "metadata": {},
   "outputs": [],
   "source": [
    "test_df.index"
   ]
  },
  {
   "cell_type": "code",
   "execution_count": null,
   "id": "30b6460d-5f16-434c-ace2-eaea3f11b79d",
   "metadata": {},
   "outputs": [],
   "source": [
    "test_df['Age'][4:]"
   ]
  },
  {
   "cell_type": "code",
   "execution_count": null,
   "id": "c6e35cb3-5d73-4fcc-ba50-73afe3bdb37a",
   "metadata": {},
   "outputs": [],
   "source": [
    "# iloc[row_no,column_no] - integer location\n",
    "test_df.iloc[[0,3]]"
   ]
  },
  {
   "cell_type": "code",
   "execution_count": null,
   "id": "38ea6db5-b09f-4f1b-8111-184be2e8379d",
   "metadata": {},
   "outputs": [],
   "source": [
    "# loc[row_no,column_name] \n",
    "test_df.loc[3:68:4,'Name'::2]"
   ]
  },
  {
   "cell_type": "markdown",
   "id": "9fac5dc8-59f4-400e-8a4f-20d99c09b29d",
   "metadata": {
    "jp-MarkdownHeadingCollapsed": true,
    "tags": []
   },
   "source": [
    "## Indexes"
   ]
  },
  {
   "cell_type": "markdown",
   "id": "bd623c6c-13c7-4b2d-8c58-a26aa3265bf2",
   "metadata": {},
   "source": [
    "**Setting Index When Loading Dataframe**"
   ]
  },
  {
   "cell_type": "code",
   "execution_count": null,
   "id": "691d6e5b-7672-4216-8fa7-173beaf3fe8c",
   "metadata": {
    "tags": []
   },
   "outputs": [],
   "source": [
    "url = \"https://raw.githubusercontent.com/datasciencedojo/datasets/master/titanic.csv\"\n",
    "df = pd.read_csv(url,index_col='PassengerId')\n",
    "df.head()"
   ]
  },
  {
   "cell_type": "markdown",
   "id": "5c41971d-4290-4b61-b105-6b28af0d60b7",
   "metadata": {},
   "source": [
    "**Setting Index After Dataframe Creation**"
   ]
  },
  {
   "cell_type": "code",
   "execution_count": null,
   "id": "9688d831-5957-4faa-9f38-3199b8455f9b",
   "metadata": {
    "tags": []
   },
   "outputs": [],
   "source": [
    "test_df.set_index('ID',inplace=True)"
   ]
  },
  {
   "cell_type": "markdown",
   "id": "74cb4d38-2fcf-453f-82ac-b7b1d2b9d2a3",
   "metadata": {},
   "source": [
    "**Reseting Index**"
   ]
  },
  {
   "cell_type": "code",
   "execution_count": null,
   "id": "d85b8f5c-f9e9-4bf7-8296-da10cf81c235",
   "metadata": {
    "tags": []
   },
   "outputs": [],
   "source": [
    "test_df.reset_index(inplace=True)"
   ]
  },
  {
   "cell_type": "markdown",
   "id": "edf7db0b-7a16-4f06-afa1-385bfabcc464",
   "metadata": {
    "jp-MarkdownHeadingCollapsed": true,
    "tags": []
   },
   "source": [
    "## Filtering"
   ]
  },
  {
   "cell_type": "markdown",
   "id": "52d14bee-1e5f-4811-a6a9-5f45a9961990",
   "metadata": {},
   "source": [
    "**Filter Mask**"
   ]
  },
  {
   "cell_type": "code",
   "execution_count": null,
   "id": "486855bc-72b7-4db5-86f5-f8004d36f2f9",
   "metadata": {
    "tags": []
   },
   "outputs": [],
   "source": [
    "filt = test_df['Age'] >= 65\n",
    "test_df[filt]"
   ]
  },
  {
   "cell_type": "code",
   "execution_count": null,
   "id": "91e4cd10-7689-4c24-b8f7-4f30af7dd7b4",
   "metadata": {
    "tags": []
   },
   "outputs": [],
   "source": [
    "filt = (test_df['Height'] >= 190) & (test_df['Weight'] < 60)\n",
    "test_df.loc[~filt, 'Grade']"
   ]
  },
  {
   "cell_type": "code",
   "execution_count": null,
   "id": "1c4da918-fe0d-4cea-a335-d3746d0ac1a4",
   "metadata": {
    "scrolled": true,
    "tags": []
   },
   "outputs": [],
   "source": [
    "filt = test_df['Name'].str.contains('Steele')\n",
    "test_df[filt]"
   ]
  },
  {
   "cell_type": "markdown",
   "id": "a5dd57a2-d507-4e71-a5fc-3e16bb3f6001",
   "metadata": {
    "jp-MarkdownHeadingCollapsed": true,
    "tags": []
   },
   "source": [
    "## Modifying Dataframe"
   ]
  },
  {
   "cell_type": "markdown",
   "id": "99b5d8e8-353a-4858-8e31-b3679678c3a6",
   "metadata": {},
   "source": [
    "**Renaming Column Names**"
   ]
  },
  {
   "cell_type": "code",
   "execution_count": null,
   "id": "5b583d8d-3917-4830-9183-3e696495e517",
   "metadata": {
    "tags": []
   },
   "outputs": [],
   "source": [
    "test_df.columns = [x.lower() for x in test_df.columns]\n",
    "test_df.head()"
   ]
  },
  {
   "cell_type": "code",
   "execution_count": null,
   "id": "9da14525-016a-4298-bc2c-0bdc155c6c92",
   "metadata": {
    "tags": []
   },
   "outputs": [],
   "source": [
    "df = df.rename({\n",
    "        'name':'naam',\n",
    "        'age':'umar',\n",
    "        'country':'watan',\n",
    "        'occupation':'kaam'\n",
    "        },axis=1)\n",
    "\n",
    "df.head()"
   ]
  },
  {
   "cell_type": "code",
   "execution_count": null,
   "id": "9e1ee908-9691-4528-9976-7e3e173a0684",
   "metadata": {
    "tags": []
   },
   "outputs": [],
   "source": [
    "test_df.rename({'isstudent':'isStudent'},axis=1,inplace=True)\n",
    "test_df.head()"
   ]
  },
  {
   "cell_type": "markdown",
   "id": "e3c3a02d-3173-416e-8db6-4ff4b04b8243",
   "metadata": {},
   "source": [
    "**Modifying Entries in Dataframe**"
   ]
  },
  {
   "cell_type": "code",
   "execution_count": null,
   "id": "82e0dbed-fab4-4912-8bd2-3491f8164123",
   "metadata": {
    "tags": []
   },
   "outputs": [],
   "source": [
    "test_df.iloc[54,6] = 70"
   ]
  },
  {
   "cell_type": "code",
   "execution_count": null,
   "id": "85a503cb-5032-48b6-a38b-045cbf956b63",
   "metadata": {
    "tags": []
   },
   "outputs": [],
   "source": [
    "filt = (test_df['age'] == 20) & (test_df['name'].str.contains('Harry'))\n",
    "test_df.loc[filt,'name'] = 'Harry James'\n",
    "test_df.head(15)"
   ]
  },
  {
   "cell_type": "markdown",
   "id": "31bf0d6d-5248-40cc-a6c8-74ab919827e4",
   "metadata": {},
   "source": [
    "**Built-In Methods for Modification**"
   ]
  },
  {
   "cell_type": "markdown",
   "id": "4876ba6a-424e-44fa-9a5c-e5406c05ea7b",
   "metadata": {},
   "source": [
    "1. apply()"
   ]
  },
  {
   "cell_type": "code",
   "execution_count": null,
   "id": "f7af082f-5cc4-49bd-acf0-58d4cc92d6b7",
   "metadata": {
    "tags": []
   },
   "outputs": [],
   "source": [
    "test_df['height'] = test_df['height'].apply(lambda x: np.round(x,2))\n",
    "test_df.head()"
   ]
  },
  {
   "cell_type": "markdown",
   "id": "8b6f9576-f1db-4d66-91c6-261905886d3d",
   "metadata": {},
   "source": [
    "2. applymap()"
   ]
  },
  {
   "cell_type": "code",
   "execution_count": null,
   "id": "c7e98f36-3bfb-4b12-ada9-2064c2ec6098",
   "metadata": {
    "tags": []
   },
   "outputs": [],
   "source": [
    "df[['naam','kaam','watan']].applymap(lambda x: x.upper())"
   ]
  },
  {
   "cell_type": "markdown",
   "id": "a93375e9-3cd4-4b22-8b12-7e73681b060b",
   "metadata": {},
   "source": [
    "3. map()"
   ]
  },
  {
   "cell_type": "code",
   "execution_count": null,
   "id": "e426a258-0134-434a-a808-7f9b4e868231",
   "metadata": {
    "tags": []
   },
   "outputs": [],
   "source": [
    "df['watan'].map({'USA':'America','London':'Britian'})"
   ]
  },
  {
   "cell_type": "markdown",
   "id": "d2b00506-906a-4cad-9a00-2811d1f4ba20",
   "metadata": {},
   "source": [
    "4. replace()"
   ]
  },
  {
   "cell_type": "code",
   "execution_count": null,
   "id": "dc8f089b-896f-40ca-801b-d7a7f31114f6",
   "metadata": {
    "tags": []
   },
   "outputs": [],
   "source": [
    "df['watan'].replace({'USA':'America','London':'Britian'})"
   ]
  },
  {
   "cell_type": "markdown",
   "id": "0430908e-bb62-4aa0-b197-3e57b403b094",
   "metadata": {
    "jp-MarkdownHeadingCollapsed": true,
    "tags": []
   },
   "source": [
    "## Adding/Removing Rows and Columns"
   ]
  },
  {
   "cell_type": "markdown",
   "id": "30dc1d3b-bdb4-4931-88df-d6e1a48c254d",
   "metadata": {},
   "source": [
    "**Adding a Column**"
   ]
  },
  {
   "cell_type": "code",
   "execution_count": null,
   "id": "051762c6-7c0a-41a4-8b37-bacb6b9e5959",
   "metadata": {
    "tags": []
   },
   "outputs": [],
   "source": [
    "test_df[['first_name','last_name']]  = test_df['name'].str.split(' ',expand=True)\n",
    "test_df"
   ]
  },
  {
   "cell_type": "markdown",
   "id": "45bd8317-5f49-42da-98d3-ebd606aae29a",
   "metadata": {},
   "source": [
    "**Removing a Column**"
   ]
  },
  {
   "cell_type": "code",
   "execution_count": null,
   "id": "4cb333b4-3949-4e10-9af1-a06af9f9d983",
   "metadata": {
    "tags": []
   },
   "outputs": [],
   "source": [
    "test_df.drop(columns=['first_name','last_name'])\n",
    "test_df.drop(['first_name','last_name'],axis=1)"
   ]
  },
  {
   "cell_type": "markdown",
   "id": "d9561459-b4bb-4add-ba11-2aaf8ba2f70e",
   "metadata": {},
   "source": [
    "**Adding a Row**"
   ]
  },
  {
   "cell_type": "code",
   "execution_count": null,
   "id": "98275d49-2433-4c16-b59e-582894c9c6a3",
   "metadata": {
    "tags": []
   },
   "outputs": [],
   "source": [
    "test_df.append({'age':19,'isStudent':False,'grade':'C'},ignore_index=True)"
   ]
  },
  {
   "cell_type": "code",
   "execution_count": null,
   "id": "f5954f57-9a71-4668-919d-f92f2b6775d9",
   "metadata": {
    "tags": []
   },
   "outputs": [],
   "source": [
    "avengers = {\n",
    "    'name': ['ironman','thor','hulk'],\n",
    "    'age': [41,800,35],\n",
    "    'ability': ['rich','god','power'],\n",
    "}\n",
    "\n",
    "dc = {\n",
    "    'name': ['superman','batman','flash'],\n",
    "    'from': ['krypton','gotham',np.nan],\n",
    "    'ability': ['god','rich','fast']\n",
    "}\n",
    "\n",
    "df1 = pd.DataFrame(avengers)\n",
    "df2 = pd.DataFrame(dc)"
   ]
  },
  {
   "cell_type": "code",
   "execution_count": null,
   "id": "0516af4c-ac2a-4d39-8d24-817bd1037db6",
   "metadata": {
    "tags": []
   },
   "outputs": [],
   "source": [
    "df1.append(df2,ignore_index=True) # deprecated\n",
    "pd.concat([df1,df2],ignore_index=True,join='inner')"
   ]
  },
  {
   "cell_type": "markdown",
   "id": "8cf102d8-2dd0-419d-89cc-712e11f664aa",
   "metadata": {},
   "source": [
    "**Removing a Row**"
   ]
  },
  {
   "cell_type": "code",
   "execution_count": null,
   "id": "f2b41792-548c-400a-8b11-07944adaa137",
   "metadata": {
    "tags": []
   },
   "outputs": [],
   "source": [
    "test_df.drop(index=2)"
   ]
  },
  {
   "cell_type": "code",
   "execution_count": null,
   "id": "4fa1550e-b929-49ed-8734-e7d66051d577",
   "metadata": {
    "tags": []
   },
   "outputs": [],
   "source": [
    "filt = (test_df['name'].str.contains('Emily')) & (test_df['age']>25)\n",
    "test_df.drop(test_df[filt].index)"
   ]
  },
  {
   "cell_type": "markdown",
   "id": "6fe28c20-76fe-4ee3-b7d4-b294b4c84682",
   "metadata": {
    "jp-MarkdownHeadingCollapsed": true,
    "tags": []
   },
   "source": [
    "## Sorting"
   ]
  },
  {
   "cell_type": "markdown",
   "id": "934df1b2-1965-452a-9cf1-3be8892052f8",
   "metadata": {},
   "source": [
    "**Sort Dataframe by Column**"
   ]
  },
  {
   "cell_type": "code",
   "execution_count": null,
   "id": "6c55b45a-f66b-4887-8fe7-e683c0062f00",
   "metadata": {},
   "outputs": [],
   "source": [
    "test_df.sort_values(by=['Score','Grade'],ascending=[False,True])"
   ]
  },
  {
   "cell_type": "markdown",
   "id": "453b0101-1ece-4972-83f6-22e5759b2315",
   "metadata": {},
   "source": [
    "**Sort Column**"
   ]
  },
  {
   "cell_type": "code",
   "execution_count": null,
   "id": "b49213e3-9c8b-4150-8a2d-574e5e0548fd",
   "metadata": {
    "tags": []
   },
   "outputs": [],
   "source": [
    "test_df['Weight'].sort_values()"
   ]
  },
  {
   "cell_type": "code",
   "execution_count": null,
   "id": "3acf19c6-e0b3-4b22-87c3-eac443922230",
   "metadata": {
    "tags": []
   },
   "outputs": [],
   "source": [
    "test_df['Height'].nlargest(10)"
   ]
  },
  {
   "cell_type": "code",
   "execution_count": null,
   "id": "074deca9-5747-4263-8d0d-47755a377392",
   "metadata": {
    "tags": []
   },
   "outputs": [],
   "source": [
    "test_df.nsmallest(10,'Weight')"
   ]
  },
  {
   "cell_type": "markdown",
   "id": "d5efa43d-8fb9-4251-97f1-5fe84526fb4a",
   "metadata": {
    "jp-MarkdownHeadingCollapsed": true,
    "tags": []
   },
   "source": [
    "## Grouping and Aggregating"
   ]
  },
  {
   "cell_type": "code",
   "execution_count": null,
   "id": "d1664e30-d537-428a-ac9d-ee7b625b4111",
   "metadata": {
    "tags": []
   },
   "outputs": [],
   "source": [
    "test_df['Month'] = test_df['Birthdate'].dt.month_name()"
   ]
  },
  {
   "cell_type": "code",
   "execution_count": null,
   "id": "3d9d3c5e-b034-4996-be87-b92607b2234e",
   "metadata": {
    "scrolled": true,
    "tags": []
   },
   "outputs": [],
   "source": [
    "test_df.head()"
   ]
  },
  {
   "cell_type": "markdown",
   "id": "fb3bed20-263b-49ae-8355-939eeb912b71",
   "metadata": {},
   "source": [
    "**Creating a Parent Group**"
   ]
  },
  {
   "cell_type": "code",
   "execution_count": null,
   "id": "8fdd3a78-fcec-4edd-9b5b-f3631ef2ff80",
   "metadata": {
    "tags": []
   },
   "outputs": [],
   "source": [
    "month_group = test_df.groupby(['Month'])"
   ]
  },
  {
   "cell_type": "markdown",
   "id": "69cfe309-0eed-4667-af77-dfdb9d94df2c",
   "metadata": {},
   "source": [
    "**Getting a Sub-Group from the Parent Group**"
   ]
  },
  {
   "cell_type": "code",
   "execution_count": null,
   "id": "390fc674-3638-450a-b8fb-2a94b2b9bd26",
   "metadata": {
    "scrolled": true,
    "tags": []
   },
   "outputs": [],
   "source": [
    "month_group.get_group('January')"
   ]
  },
  {
   "cell_type": "markdown",
   "id": "b562f306-c513-445b-bc4c-acb633813044",
   "metadata": {
    "tags": []
   },
   "source": [
    "**Creating a Multi-Index Like Dataframe Using `groupby()` and Aggregating the Results**"
   ]
  },
  {
   "cell_type": "code",
   "execution_count": null,
   "id": "c744d483-e008-4a50-bdcf-1ec529d352d8",
   "metadata": {
    "scrolled": true,
    "tags": []
   },
   "outputs": [],
   "source": [
    "month_group.Grade.value_counts().head(50)"
   ]
  },
  {
   "cell_type": "code",
   "execution_count": null,
   "id": "cb99ff05-6430-4187-a7ec-75c8953069a9",
   "metadata": {
    "tags": []
   },
   "outputs": [],
   "source": [
    "month_group.Grade.value_counts().head(50).loc['May']"
   ]
  },
  {
   "cell_type": "markdown",
   "id": "baf2db5b-9f41-4646-80c1-6b65b0e654c7",
   "metadata": {},
   "source": [
    "**Applying Aggregate Functions Over Sub-Groups**"
   ]
  },
  {
   "cell_type": "code",
   "execution_count": null,
   "id": "b3667f57-3655-41d5-b185-6e775206f6a1",
   "metadata": {
    "tags": []
   },
   "outputs": [],
   "source": [
    "month_group.Height.mean()"
   ]
  },
  {
   "cell_type": "code",
   "execution_count": null,
   "id": "ae7e5f12-b892-4eb4-8660-4153ff0dc11c",
   "metadata": {
    "tags": []
   },
   "outputs": [],
   "source": [
    "month_group.Height.mean().loc['July']"
   ]
  },
  {
   "cell_type": "markdown",
   "id": "be270d35-0a14-4fce-8c32-9ba72f460d75",
   "metadata": {},
   "source": [
    "**Applying Multiple Aggregate Functions to a Parent Group**"
   ]
  },
  {
   "cell_type": "code",
   "execution_count": null,
   "id": "18ec47b6-c99d-46fd-929b-99089ec91389",
   "metadata": {
    "tags": []
   },
   "outputs": [],
   "source": [
    "month_group.Score.agg(['mean','median'])"
   ]
  },
  {
   "cell_type": "code",
   "execution_count": null,
   "id": "4def0988-96b5-4e4f-8b22-7636d861b202",
   "metadata": {
    "tags": []
   },
   "outputs": [],
   "source": [
    "month_group.Score.agg(['mean','median']).loc['September']"
   ]
  },
  {
   "cell_type": "markdown",
   "id": "504e59cb-e924-4385-8553-17ae8fe683bf",
   "metadata": {},
   "source": [
    "**Advanced Function Use**"
   ]
  },
  {
   "cell_type": "code",
   "execution_count": null,
   "id": "ce2f20bb-b377-4884-8758-84d29ee066eb",
   "metadata": {
    "tags": []
   },
   "outputs": [],
   "source": [
    "test_name = 'Emma'\n",
    "country_group = test_df.groupby(['Country'])\n",
    "country_group.Name.apply(lambda x: x.str.contains(test_name).sum()).sort_values(ascending=False)"
   ]
  },
  {
   "cell_type": "code",
   "execution_count": null,
   "id": "36ac3913-f3e2-4dcf-b001-eb641174aea8",
   "metadata": {
    "tags": []
   },
   "outputs": [],
   "source": [
    "country_group.Score.agg(['min','max']).sort_values(by=['min','max'],ascending=[True,False])"
   ]
  },
  {
   "cell_type": "markdown",
   "id": "2b626d44-2d83-413d-a5cc-75375f7bf208",
   "metadata": {},
   "source": [
    "**Creating Multiple Parent Groups**"
   ]
  },
  {
   "cell_type": "code",
   "execution_count": null,
   "id": "13d31355-cb1d-46ab-9997-7f7096ea3351",
   "metadata": {
    "tags": []
   },
   "outputs": [],
   "source": [
    "country_grade_group = test_df.groupby(['Country','Grade'])"
   ]
  },
  {
   "cell_type": "code",
   "execution_count": null,
   "id": "64cc00bb-a14e-47b7-969d-6b1dbed846c7",
   "metadata": {
    "tags": []
   },
   "outputs": [],
   "source": [
    "country_grade_group.get_group(('India','B'))"
   ]
  },
  {
   "cell_type": "code",
   "execution_count": null,
   "id": "99964b8d-ad41-485d-83ee-187b4466ac1c",
   "metadata": {
    "scrolled": true,
    "tags": []
   },
   "outputs": [],
   "source": [
    "country_grade_group.Height.median()"
   ]
  },
  {
   "cell_type": "code",
   "execution_count": null,
   "id": "c00c8add-18ea-4982-bc84-bb778f64fc07",
   "metadata": {
    "scrolled": true,
    "tags": []
   },
   "outputs": [],
   "source": [
    "country_grade_group.Month.agg('count')"
   ]
  },
  {
   "cell_type": "code",
   "execution_count": null,
   "id": "1e74f730-c866-4e22-a42d-6673e9c04701",
   "metadata": {
    "scrolled": true,
    "tags": []
   },
   "outputs": [],
   "source": [
    "country_grade_group.Month.value_counts().head(50)"
   ]
  },
  {
   "cell_type": "code",
   "execution_count": null,
   "id": "4e010df2-03d4-4aec-b3b5-44f4fb411615",
   "metadata": {
    "scrolled": true,
    "tags": []
   },
   "outputs": [],
   "source": [
    "country_grade_group.Month.value_counts().loc['India']"
   ]
  },
  {
   "cell_type": "code",
   "execution_count": null,
   "id": "98b0ad51-7d8f-4581-a66b-9af4cf3903f5",
   "metadata": {
    "tags": []
   },
   "outputs": [],
   "source": [
    "country_grade_group.Month.value_counts().loc['India'].loc['A']"
   ]
  },
  {
   "cell_type": "markdown",
   "id": "d334d849-6002-4ae8-b462-14e9fc911de8",
   "metadata": {
    "jp-MarkdownHeadingCollapsed": true,
    "tags": []
   },
   "source": [
    "## Handling Missing Data"
   ]
  },
  {
   "cell_type": "markdown",
   "id": "4065735c-863e-4459-81a3-8ae7270e1a30",
   "metadata": {},
   "source": [
    "**Creating Null Values**"
   ]
  },
  {
   "cell_type": "code",
   "execution_count": null,
   "id": "a230ba9a-0c91-4246-a8c4-ac31007a1347",
   "metadata": {
    "tags": []
   },
   "outputs": [],
   "source": [
    "def creating_nulls(nulls=1000):\n",
    "    \"\"\"\n",
    "    function that creates null values to practise handling null values\n",
    "    \"\"\"\n",
    "    null_test_df = test_df.copy()\n",
    "    for _ in range(1000):\n",
    "        row = np.random.choice(np.arange(test_df.shape[0]))\n",
    "        col = np.random.choice(np.arange(test_df.shape[1]))\n",
    "        null_test_df.iloc[row,col] = np.random.choice([np.nan,None,'Null','Missing'])\n",
    "        \n",
    "    return null_test_df"
   ]
  },
  {
   "cell_type": "code",
   "execution_count": null,
   "id": "e73928ee-c7c7-49a1-af1c-5c4b1fd2c90f",
   "metadata": {
    "tags": []
   },
   "outputs": [],
   "source": [
    "null_test_df = creating_nulls()\n",
    "null_test_df.head()"
   ]
  },
  {
   "cell_type": "code",
   "execution_count": null,
   "id": "7f33c431-db2d-4fb5-89fb-a5e1ca486dec",
   "metadata": {
    "tags": []
   },
   "outputs": [],
   "source": [
    "null_test_df['Birthdate'].dt.strftime('%d-%m-%Y')"
   ]
  },
  {
   "cell_type": "markdown",
   "id": "06755314-a968-4dbd-ac7e-5189690509ea",
   "metadata": {
    "tags": []
   },
   "source": [
    "**Counting Null Values**"
   ]
  },
  {
   "cell_type": "code",
   "execution_count": null,
   "id": "05069a61-a100-45bf-afb2-ad71c92b2feb",
   "metadata": {
    "tags": []
   },
   "outputs": [],
   "source": [
    "null_test_df.isna()"
   ]
  },
  {
   "cell_type": "code",
   "execution_count": null,
   "id": "d7c9e2be-0adf-4493-a1ce-4c4c1c7a5328",
   "metadata": {
    "tags": []
   },
   "outputs": [],
   "source": [
    "null_test_df.isna().sum()"
   ]
  },
  {
   "cell_type": "markdown",
   "id": "b750882b-2c63-4c4c-80ea-e0e7904236c4",
   "metadata": {},
   "source": [
    "**Replacing String Null Values with `np.nan` or `None`**"
   ]
  },
  {
   "cell_type": "code",
   "execution_count": null,
   "id": "ffb7ad9b-414d-48f0-80e8-772db76be905",
   "metadata": {
    "tags": []
   },
   "outputs": [],
   "source": [
    "null_test_df.replace(to_replace=['Null','Missing',None],value=np.nan,inplace=True)"
   ]
  },
  {
   "cell_type": "code",
   "execution_count": null,
   "id": "2c563dbe-091c-4785-ba10-68731b0d89dd",
   "metadata": {
    "tags": []
   },
   "outputs": [],
   "source": [
    "null_test_df.isna().sum()"
   ]
  },
  {
   "cell_type": "code",
   "execution_count": null,
   "id": "06ecb5cf-c5f3-4911-b0fa-0a0e1fe4339d",
   "metadata": {
    "tags": []
   },
   "outputs": [],
   "source": [
    "null_test_df.dtypes"
   ]
  },
  {
   "cell_type": "markdown",
   "id": "51ae83a9-75ad-4168-af60-04825bb469cf",
   "metadata": {},
   "source": [
    "**Removing Rows/Columns Based on Null Values**"
   ]
  },
  {
   "cell_type": "code",
   "execution_count": null,
   "id": "553700dc-b1fb-461d-bc11-c9d48ebcdb9d",
   "metadata": {
    "tags": []
   },
   "outputs": [],
   "source": [
    "null_test_df.dropna(how='any')"
   ]
  },
  {
   "cell_type": "code",
   "execution_count": null,
   "id": "ac0d67a2-3d09-48d2-869a-dc53193ead32",
   "metadata": {
    "tags": []
   },
   "outputs": [],
   "source": [
    "null_test_df.dropna(how='all',subset=['Name','Weight'])"
   ]
  },
  {
   "cell_type": "code",
   "execution_count": null,
   "id": "7d51430b-2e68-4076-9339-483e8cab7c0c",
   "metadata": {
    "tags": []
   },
   "outputs": [],
   "source": [
    "null_test_df.dropna(axis=1,how='all')"
   ]
  },
  {
   "cell_type": "markdown",
   "id": "7fd56549-85f7-4068-aff2-ca5b68a980e9",
   "metadata": {},
   "source": [
    "**Removing Rows Based on Non-Null Entries**"
   ]
  },
  {
   "cell_type": "code",
   "execution_count": null,
   "id": "72d0e670-718c-4b5c-a3c9-c370ffe22813",
   "metadata": {
    "tags": []
   },
   "outputs": [],
   "source": [
    "null_test_df.dropna(axis=0,thresh=7)"
   ]
  },
  {
   "cell_type": "code",
   "execution_count": null,
   "id": "4aa89812-7653-42cf-b38b-de59244ac458",
   "metadata": {
    "tags": []
   },
   "outputs": [],
   "source": [
    "null_test_df.iloc[495]"
   ]
  },
  {
   "cell_type": "markdown",
   "id": "466d15dc-8452-48fa-bf17-e6ee2324c00d",
   "metadata": {},
   "source": [
    "**Filling Null Values**"
   ]
  },
  {
   "cell_type": "code",
   "execution_count": null,
   "id": "fccf0437-c841-4758-af17-96952dfa3b85",
   "metadata": {
    "tags": []
   },
   "outputs": [],
   "source": [
    "null_test_df.fillna(-np.inf)"
   ]
  },
  {
   "cell_type": "code",
   "execution_count": null,
   "id": "48c8ac52-6d47-415b-8ba5-1cec468342b1",
   "metadata": {
    "tags": []
   },
   "outputs": [],
   "source": [
    "null_test_df['Weight'].fillna(np.mean(null_test_df['Weight']))"
   ]
  },
  {
   "cell_type": "code",
   "execution_count": null,
   "id": "e7b04f25-5c69-4510-8597-cf43fabf1137",
   "metadata": {
    "tags": []
   },
   "outputs": [],
   "source": [
    "null_test_df['ID'].interpolate()"
   ]
  },
  {
   "cell_type": "code",
   "execution_count": null,
   "id": "4f11a282-a1cd-47e0-81a5-6f85307d2fca",
   "metadata": {
    "tags": []
   },
   "outputs": [],
   "source": [
    "null_test_df['Country'].fillna(method='bfill')"
   ]
  },
  {
   "cell_type": "code",
   "execution_count": null,
   "id": "f511319d-e693-44dc-809f-79a67da121c6",
   "metadata": {
    "tags": []
   },
   "outputs": [],
   "source": [
    "null_test_df['Grade'].fillna(method='ffill',limit=2)"
   ]
  },
  {
   "cell_type": "markdown",
   "id": "43d62767-fb89-423a-bdfa-344c07beabce",
   "metadata": {
    "jp-MarkdownHeadingCollapsed": true,
    "tags": []
   },
   "source": [
    "## Casting Datatypes"
   ]
  },
  {
   "cell_type": "code",
   "execution_count": null,
   "id": "49e9c719-1426-4a1f-ba44-84c9e90c32f2",
   "metadata": {
    "tags": []
   },
   "outputs": [],
   "source": [
    "import sys"
   ]
  },
  {
   "cell_type": "code",
   "execution_count": null,
   "id": "8dd0346b-7d15-4abe-af98-225058d2fe5c",
   "metadata": {
    "tags": []
   },
   "outputs": [],
   "source": [
    "test_df.head()"
   ]
  },
  {
   "cell_type": "code",
   "execution_count": null,
   "id": "72bac668-1cc0-4d33-b27c-81a0404c6b6e",
   "metadata": {
    "tags": []
   },
   "outputs": [],
   "source": [
    "test_df.dtypes"
   ]
  },
  {
   "cell_type": "code",
   "execution_count": null,
   "id": "88beb784-0ea6-455e-a475-76bc2d067df5",
   "metadata": {
    "tags": []
   },
   "outputs": [],
   "source": [
    "sys.getsizeof(test_df)/1000"
   ]
  },
  {
   "cell_type": "code",
   "execution_count": null,
   "id": "0df6ea9a-961f-4037-8db1-c4226189a268",
   "metadata": {
    "tags": []
   },
   "outputs": [],
   "source": [
    "test_df[['Country','Grade']] = test_df[['Country','Grade']].astype('category')"
   ]
  },
  {
   "cell_type": "code",
   "execution_count": null,
   "id": "bfe1dcd5-0d38-4b38-b6f7-d65ef2060b90",
   "metadata": {
    "tags": []
   },
   "outputs": [],
   "source": [
    "test_df.dtypes"
   ]
  },
  {
   "cell_type": "code",
   "execution_count": null,
   "id": "7e8eb4d8-5028-42a3-be08-4950d682354f",
   "metadata": {
    "tags": []
   },
   "outputs": [],
   "source": [
    "sys.getsizeof(test_df)/1000"
   ]
  },
  {
   "cell_type": "code",
   "execution_count": null,
   "id": "d47cf8ea-8203-44bb-8e30-bdff16026c17",
   "metadata": {
    "tags": []
   },
   "outputs": [],
   "source": [
    "test_df.info(memory_usage='deep')"
   ]
  },
  {
   "cell_type": "code",
   "execution_count": null,
   "id": "c4598df4-a775-468a-83c2-31871b97a304",
   "metadata": {
    "tags": []
   },
   "outputs": [],
   "source": [
    "test_df[['Age','Score']] = test_df[['Age','Score']].astype((np.int32,np.int32))"
   ]
  },
  {
   "cell_type": "code",
   "execution_count": null,
   "id": "5a080baf-c286-40b2-96c0-bf47fad119b2",
   "metadata": {
    "tags": []
   },
   "outputs": [],
   "source": [
    "test_df.dtypes"
   ]
  },
  {
   "cell_type": "code",
   "execution_count": null,
   "id": "8239059f-e158-46b4-b0e1-b14be68ba62e",
   "metadata": {
    "tags": []
   },
   "outputs": [],
   "source": [
    "sys.getsizeof(test_df)/1000"
   ]
  },
  {
   "cell_type": "markdown",
   "id": "58d67ff6-0c4c-4d1b-8199-df142ac49fc9",
   "metadata": {
    "jp-MarkdownHeadingCollapsed": true,
    "tags": []
   },
   "source": [
    "## Time Series Analysis\n",
    "\n",
    "[Pandas `dt` Method Docs](https://pandas.pydata.org/docs/reference/api/pandas.Series.dt.date.html)"
   ]
  },
  {
   "cell_type": "markdown",
   "id": "8a403461-2bbf-4338-b30f-d95b5a2659b8",
   "metadata": {},
   "source": [
    "**Creating Dataset**"
   ]
  },
  {
   "cell_type": "code",
   "execution_count": null,
   "id": "85c38e0d-d09a-4ef1-bf72-4d8ccd34fd4a",
   "metadata": {},
   "outputs": [],
   "source": [
    "path = \"C:\\\\Users\\\\dzuz1\\\\Desktop\\\\nasdaq.csv\"\n",
    "\n",
    "nasdaq = pd.read_csv(path) # parse_dates=['Date']\n",
    "nasdaq.head()"
   ]
  },
  {
   "cell_type": "markdown",
   "id": "05716eaa-d708-434c-9403-3e8102dcca37",
   "metadata": {},
   "source": [
    "**Converting Date Column to `datetime` object**"
   ]
  },
  {
   "cell_type": "code",
   "execution_count": null,
   "id": "eee45d79-6581-4d19-a2af-970a36fef58a",
   "metadata": {},
   "outputs": [],
   "source": [
    "nasdaq['Date'] = pd.to_datetime(nasdaq['Date']) # errors='coerce'\n",
    "nasdaq"
   ]
  },
  {
   "cell_type": "code",
   "execution_count": null,
   "id": "e780ca9a-fd7a-41a6-8fdb-a2ccddb6ed04",
   "metadata": {},
   "outputs": [],
   "source": [
    "nasdaq.dtypes"
   ]
  },
  {
   "cell_type": "markdown",
   "id": "f9ac7bcf-f5da-471c-83e6-010a34f240c5",
   "metadata": {},
   "source": [
    "**Setting Date as Index**"
   ]
  },
  {
   "cell_type": "code",
   "execution_count": null,
   "id": "bb8612c6-fa3b-4c5f-b775-ee90e1e1cda5",
   "metadata": {
    "tags": []
   },
   "outputs": [],
   "source": [
    "nasdaq.set_index('Date',inplace=True)"
   ]
  },
  {
   "cell_type": "markdown",
   "id": "24397659-ff3e-43b0-9b61-95b5fdc0f974",
   "metadata": {},
   "source": [
    "**Adding Month Column**"
   ]
  },
  {
   "cell_type": "code",
   "execution_count": null,
   "id": "5701b88d-1a77-48d5-92f3-3162013b19c7",
   "metadata": {
    "tags": []
   },
   "outputs": [],
   "source": [
    "nasdaq['Month'] = nasdaq.index.month_name()\n",
    "nasdaq"
   ]
  },
  {
   "cell_type": "markdown",
   "id": "aac943cf-fe74-4a8c-9a10-fcb8bc3ac4e9",
   "metadata": {
    "tags": []
   },
   "source": [
    "`timedelta`"
   ]
  },
  {
   "cell_type": "code",
   "execution_count": null,
   "id": "b5bc425d-2ca9-45e4-919c-bdae2f2b5a30",
   "metadata": {
    "tags": []
   },
   "outputs": [],
   "source": [
    "nasdaq.index.max() - nasdaq.index.min()"
   ]
  },
  {
   "cell_type": "markdown",
   "id": "58f5eb4f-baff-4cf8-8787-a24f5bd5eb1d",
   "metadata": {},
   "source": [
    "**Filtering**"
   ]
  },
  {
   "cell_type": "code",
   "execution_count": null,
   "id": "c5e53af8-f4e3-4894-a3eb-c928591ba4ab",
   "metadata": {
    "scrolled": true,
    "tags": []
   },
   "outputs": [],
   "source": [
    "filt = (nasdaq.index > '2007-05-10')  & (nasdaq.index < '2012-03-10')\n",
    "nasdaq[filt]"
   ]
  },
  {
   "cell_type": "code",
   "execution_count": null,
   "id": "a85f9121-935e-44f1-b295-12b28a1f4cbd",
   "metadata": {
    "tags": []
   },
   "outputs": [],
   "source": [
    "nasdaq.loc['2019']"
   ]
  },
  {
   "cell_type": "markdown",
   "id": "7bb26d6f-0c17-4b1f-be56-b7e6e7c19e1e",
   "metadata": {},
   "source": [
    "**Resampling**  \n",
    "[Pandas Dateoffset Docs](https://pandas.pydata.org/pandas-docs/stable/user_guide/timeseries.html#dateoffset-objects)"
   ]
  },
  {
   "cell_type": "code",
   "execution_count": null,
   "id": "8c9c77b8-ca64-4387-af9e-3a45bb0e0e70",
   "metadata": {
    "tags": []
   },
   "outputs": [],
   "source": [
    "nasdaq.loc['2023-05':'2023-06']['Close'].nsmallest()"
   ]
  },
  {
   "cell_type": "code",
   "execution_count": null,
   "id": "99fab4ee-69a5-42c7-8284-03e8bff2d6d9",
   "metadata": {
    "tags": []
   },
   "outputs": [],
   "source": [
    "nasdaq['Close'].resample('M').min()"
   ]
  },
  {
   "cell_type": "code",
   "execution_count": null,
   "id": "a1a0250a-1424-4a11-bb95-59671cec30d9",
   "metadata": {
    "tags": []
   },
   "outputs": [],
   "source": [
    "nasdaq['Close'].resample('M').min().plot()"
   ]
  },
  {
   "cell_type": "code",
   "execution_count": null,
   "id": "69a9daa5-aa5b-4c80-8e9f-4fb76a49dd79",
   "metadata": {
    "tags": []
   },
   "outputs": [],
   "source": [
    "nasdaq[['Close','Open']]['2020':].resample('M').min().plot()"
   ]
  },
  {
   "cell_type": "markdown",
   "id": "bc97ba33-a98c-4696-ab5e-ebd4d68714a4",
   "metadata": {},
   "source": [
    "**Using `agg` with Resampling**"
   ]
  },
  {
   "cell_type": "code",
   "execution_count": null,
   "id": "4cc5d12b-158b-432b-b230-68ea431bbcd9",
   "metadata": {
    "tags": []
   },
   "outputs": [],
   "source": [
    "# removing redundant col AdjClose\n",
    "nasdaq.drop('Adj Close',axis=1,inplace=True)"
   ]
  },
  {
   "cell_type": "code",
   "execution_count": null,
   "id": "589e92e5-c975-451f-9396-1ca974467847",
   "metadata": {
    "scrolled": true,
    "tags": []
   },
   "outputs": [],
   "source": [
    "nasdaq['2002-05-01':'2004-06-01'].resample('M').agg({'High':'max',\n",
    "                                                     'Low':'min',\n",
    "                                                     'Open':'mean',\n",
    "                                                     'Close':'mean',\n",
    "                                                     'Volume':'sum',})"
   ]
  },
  {
   "cell_type": "code",
   "execution_count": null,
   "id": "f7061752-d495-4a89-9bc7-6d92f53455e0",
   "metadata": {
    "tags": []
   },
   "outputs": [],
   "source": [
    "nasdaq['2002-05-01':'2004-06-01'].resample('M').agg({'High':'max',\n",
    "                                                     'Low':'min',\n",
    "                                                     'Open':'median',\n",
    "                                                     'Close':'mean'})\\\n",
    "                                                     .plot(figsize=(15,8))"
   ]
  },
  {
   "cell_type": "markdown",
   "id": "15fbf28d-2a28-4f68-9a24-d8277b426807",
   "metadata": {
    "jp-MarkdownHeadingCollapsed": true,
    "tags": []
   },
   "source": [
    "## Advanced Pandas"
   ]
  },
  {
   "cell_type": "markdown",
   "id": "ab96f971-c6d1-40b4-b8f3-290df0d49e80",
   "metadata": {},
   "source": [
    "**Merging Dataframes**"
   ]
  },
  {
   "cell_type": "code",
   "execution_count": null,
   "id": "155e2235-4ca4-4e5e-9f58-e0a558129dd8",
   "metadata": {},
   "outputs": [],
   "source": []
  },
  {
   "cell_type": "code",
   "execution_count": null,
   "id": "7ed20cf6-ee11-40db-8f98-8f5fee72fe43",
   "metadata": {},
   "outputs": [],
   "source": []
  },
  {
   "cell_type": "code",
   "execution_count": null,
   "id": "fd92bd66-60b9-446b-a54e-da5d5861b4c4",
   "metadata": {},
   "outputs": [],
   "source": []
  },
  {
   "cell_type": "markdown",
   "id": "33d5e4f3-2307-45e7-9041-8a8c5edfe04f",
   "metadata": {},
   "source": [
    "**Pivot Tables**"
   ]
  },
  {
   "cell_type": "code",
   "execution_count": 30,
   "id": "88504670-5cc4-4144-901d-31cb06dec091",
   "metadata": {
    "scrolled": true,
    "tags": []
   },
   "outputs": [
    {
     "data": {
      "text/html": [
       "<div>\n",
       "<style scoped>\n",
       "    .dataframe tbody tr th:only-of-type {\n",
       "        vertical-align: middle;\n",
       "    }\n",
       "\n",
       "    .dataframe tbody tr th {\n",
       "        vertical-align: top;\n",
       "    }\n",
       "\n",
       "    .dataframe thead tr th {\n",
       "        text-align: left;\n",
       "    }\n",
       "\n",
       "    .dataframe thead tr:last-of-type th {\n",
       "        text-align: right;\n",
       "    }\n",
       "</style>\n",
       "<table border=\"1\" class=\"dataframe\">\n",
       "  <thead>\n",
       "    <tr>\n",
       "      <th></th>\n",
       "      <th colspan=\"2\" halign=\"left\">Name</th>\n",
       "      <th colspan=\"2\" halign=\"left\">Age</th>\n",
       "      <th colspan=\"2\" halign=\"left\">Gender</th>\n",
       "      <th colspan=\"2\" halign=\"left\">Country</th>\n",
       "      <th colspan=\"2\" halign=\"left\">Height</th>\n",
       "      <th colspan=\"2\" halign=\"left\">Weight</th>\n",
       "      <th colspan=\"2\" halign=\"left\">Score</th>\n",
       "      <th colspan=\"2\" halign=\"left\">Grade</th>\n",
       "      <th colspan=\"2\" halign=\"left\">Birthdate</th>\n",
       "    </tr>\n",
       "    <tr>\n",
       "      <th>IsStudent</th>\n",
       "      <th>False</th>\n",
       "      <th>True</th>\n",
       "      <th>False</th>\n",
       "      <th>True</th>\n",
       "      <th>False</th>\n",
       "      <th>True</th>\n",
       "      <th>False</th>\n",
       "      <th>True</th>\n",
       "      <th>False</th>\n",
       "      <th>True</th>\n",
       "      <th>False</th>\n",
       "      <th>True</th>\n",
       "      <th>False</th>\n",
       "      <th>True</th>\n",
       "      <th>False</th>\n",
       "      <th>True</th>\n",
       "      <th>False</th>\n",
       "      <th>True</th>\n",
       "    </tr>\n",
       "    <tr>\n",
       "      <th>ID</th>\n",
       "      <th></th>\n",
       "      <th></th>\n",
       "      <th></th>\n",
       "      <th></th>\n",
       "      <th></th>\n",
       "      <th></th>\n",
       "      <th></th>\n",
       "      <th></th>\n",
       "      <th></th>\n",
       "      <th></th>\n",
       "      <th></th>\n",
       "      <th></th>\n",
       "      <th></th>\n",
       "      <th></th>\n",
       "      <th></th>\n",
       "      <th></th>\n",
       "      <th></th>\n",
       "      <th></th>\n",
       "    </tr>\n",
       "  </thead>\n",
       "  <tbody>\n",
       "    <tr>\n",
       "      <th>100001</th>\n",
       "      <td>Harry Payne</td>\n",
       "      <td>NaN</td>\n",
       "      <td>63.0</td>\n",
       "      <td>NaN</td>\n",
       "      <td>Female</td>\n",
       "      <td>NaN</td>\n",
       "      <td>Pakistan</td>\n",
       "      <td>NaN</td>\n",
       "      <td>166.243390</td>\n",
       "      <td>NaN</td>\n",
       "      <td>94.961548</td>\n",
       "      <td>NaN</td>\n",
       "      <td>110.0</td>\n",
       "      <td>NaN</td>\n",
       "      <td>D</td>\n",
       "      <td>NaN</td>\n",
       "      <td>1973-08-31</td>\n",
       "      <td>NaT</td>\n",
       "    </tr>\n",
       "    <tr>\n",
       "      <th>100002</th>\n",
       "      <td>NaN</td>\n",
       "      <td>Emily Roland</td>\n",
       "      <td>NaN</td>\n",
       "      <td>43.0</td>\n",
       "      <td>NaN</td>\n",
       "      <td>Female</td>\n",
       "      <td>NaN</td>\n",
       "      <td>Scotland</td>\n",
       "      <td>NaN</td>\n",
       "      <td>153.720175</td>\n",
       "      <td>NaN</td>\n",
       "      <td>51.508408</td>\n",
       "      <td>NaN</td>\n",
       "      <td>106.0</td>\n",
       "      <td>NaN</td>\n",
       "      <td>E</td>\n",
       "      <td>NaT</td>\n",
       "      <td>1970-10-13</td>\n",
       "    </tr>\n",
       "    <tr>\n",
       "      <th>100003</th>\n",
       "      <td>NaN</td>\n",
       "      <td>Alex Steele</td>\n",
       "      <td>NaN</td>\n",
       "      <td>21.0</td>\n",
       "      <td>NaN</td>\n",
       "      <td>Female</td>\n",
       "      <td>NaN</td>\n",
       "      <td>Ireland</td>\n",
       "      <td>NaN</td>\n",
       "      <td>163.968037</td>\n",
       "      <td>NaN</td>\n",
       "      <td>70.602036</td>\n",
       "      <td>NaN</td>\n",
       "      <td>79.0</td>\n",
       "      <td>NaN</td>\n",
       "      <td>A</td>\n",
       "      <td>NaT</td>\n",
       "      <td>1972-06-20</td>\n",
       "    </tr>\n",
       "    <tr>\n",
       "      <th>100004</th>\n",
       "      <td>NaN</td>\n",
       "      <td>Mac Clarkson</td>\n",
       "      <td>NaN</td>\n",
       "      <td>60.0</td>\n",
       "      <td>NaN</td>\n",
       "      <td>Female</td>\n",
       "      <td>NaN</td>\n",
       "      <td>Emirates</td>\n",
       "      <td>NaN</td>\n",
       "      <td>172.111597</td>\n",
       "      <td>NaN</td>\n",
       "      <td>69.342162</td>\n",
       "      <td>NaN</td>\n",
       "      <td>73.0</td>\n",
       "      <td>NaN</td>\n",
       "      <td>F</td>\n",
       "      <td>NaT</td>\n",
       "      <td>1984-10-17</td>\n",
       "    </tr>\n",
       "    <tr>\n",
       "      <th>100005</th>\n",
       "      <td>Anastasia Payne</td>\n",
       "      <td>NaN</td>\n",
       "      <td>39.0</td>\n",
       "      <td>NaN</td>\n",
       "      <td>Male</td>\n",
       "      <td>NaN</td>\n",
       "      <td>Ireland</td>\n",
       "      <td>NaN</td>\n",
       "      <td>182.232617</td>\n",
       "      <td>NaN</td>\n",
       "      <td>56.874504</td>\n",
       "      <td>NaN</td>\n",
       "      <td>77.0</td>\n",
       "      <td>NaN</td>\n",
       "      <td>C</td>\n",
       "      <td>NaN</td>\n",
       "      <td>1998-05-08</td>\n",
       "      <td>NaT</td>\n",
       "    </tr>\n",
       "  </tbody>\n",
       "</table>\n",
       "</div>"
      ],
      "text/plain": [
       "                      Name                 Age        Gender          \\\n",
       "IsStudent            False         True  False True    False   True    \n",
       "ID                                                                     \n",
       "100001         Harry Payne           NaN  63.0   NaN  Female     NaN   \n",
       "100002                 NaN  Emily Roland   NaN  43.0     NaN  Female   \n",
       "100003                 NaN   Alex Steele   NaN  21.0     NaN  Female   \n",
       "100004                 NaN  Mac Clarkson   NaN  60.0     NaN  Female   \n",
       "100005     Anastasia Payne           NaN  39.0   NaN    Male     NaN   \n",
       "\n",
       "            Country                Height                 Weight             \\\n",
       "IsStudent     False     True        False       True       False      True    \n",
       "ID                                                                            \n",
       "100001     Pakistan       NaN  166.243390         NaN  94.961548        NaN   \n",
       "100002          NaN  Scotland         NaN  153.720175        NaN  51.508408   \n",
       "100003          NaN   Ireland         NaN  163.968037        NaN  70.602036   \n",
       "100004          NaN  Emirates         NaN  172.111597        NaN  69.342162   \n",
       "100005      Ireland       NaN  182.232617         NaN  56.874504        NaN   \n",
       "\n",
       "           Score        Grade        Birthdate             \n",
       "IsStudent  False  True  False True       False      True   \n",
       "ID                                                         \n",
       "100001     110.0    NaN     D   NaN 1973-08-31        NaT  \n",
       "100002       NaN  106.0   NaN     E        NaT 1970-10-13  \n",
       "100003       NaN   79.0   NaN     A        NaT 1972-06-20  \n",
       "100004       NaN   73.0   NaN     F        NaT 1984-10-17  \n",
       "100005      77.0    NaN     C   NaN 1998-05-08        NaT  "
      ]
     },
     "execution_count": 30,
     "metadata": {},
     "output_type": "execute_result"
    }
   ],
   "source": [
    "test_df.pivot(index='ID',columns='IsStudent').head()"
   ]
  },
  {
   "cell_type": "code",
   "execution_count": null,
   "id": "25a83666-e296-4395-8f12-1e3e92cd7d52",
   "metadata": {},
   "outputs": [],
   "source": []
  },
  {
   "cell_type": "code",
   "execution_count": null,
   "id": "effa4812-4d62-4367-a916-da8a84a2924c",
   "metadata": {},
   "outputs": [],
   "source": []
  },
  {
   "cell_type": "markdown",
   "id": "32052428-4ab7-4f9c-bd0b-27a3de7b98f3",
   "metadata": {},
   "source": [
    "**Cross Tab**"
   ]
  },
  {
   "cell_type": "code",
   "execution_count": null,
   "id": "0ecee660-647c-4218-b921-e35cb1d8d2be",
   "metadata": {
    "tags": []
   },
   "outputs": [],
   "source": [
    "test_df.head()"
   ]
  },
  {
   "cell_type": "code",
   "execution_count": null,
   "id": "1c25a63b-15ea-42ff-9f42-63b5cf632ecf",
   "metadata": {},
   "outputs": [],
   "source": [
    "pd.crosstab(test_df['Country'],test_df['Gender'],\n",
    "            margins=True)"
   ]
  },
  {
   "cell_type": "code",
   "execution_count": null,
   "id": "503580f3-9aca-4657-90e6-ea7955cfcfcf",
   "metadata": {
    "tags": []
   },
   "outputs": [],
   "source": [
    "pd.crosstab(test_df['Country'],[test_df['Gender'],test_df['IsStudent']],\n",
    "            margins=True)"
   ]
  },
  {
   "cell_type": "code",
   "execution_count": null,
   "id": "8f618ca5-f35b-4b84-ac4a-42b19268d57b",
   "metadata": {
    "scrolled": true,
    "tags": []
   },
   "outputs": [],
   "source": [
    "pd.crosstab([test_df['Country'],test_df['IsStudent']],\n",
    "            test_df['Gender'],margins=True)"
   ]
  },
  {
   "cell_type": "code",
   "execution_count": null,
   "id": "b203da02-dcfb-4670-a2b5-c7cb2929c790",
   "metadata": {
    "tags": []
   },
   "outputs": [],
   "source": [
    "pd.crosstab(test_df['Country'],test_df['Gender'],\n",
    "            values=test_df['Score'],\n",
    "            aggfunc=np.mean,\n",
    "            margins=True)"
   ]
  },
  {
   "cell_type": "code",
   "execution_count": null,
   "id": "ed7e90c9-bc58-4b68-9a1c-82e3de9844d1",
   "metadata": {
    "tags": []
   },
   "outputs": [],
   "source": [
    "pd.crosstab(test_df['Country'],[test_df['Gender'],test_df['IsStudent']],\n",
    "            values=test_df['Score'],\n",
    "            aggfunc=np.mean)"
   ]
  },
  {
   "cell_type": "code",
   "execution_count": null,
   "id": "f8e35210-9ae0-4ca5-baa1-4a150e52961b",
   "metadata": {},
   "outputs": [],
   "source": []
  },
  {
   "cell_type": "code",
   "execution_count": null,
   "id": "68b27cd9-621e-4650-b04d-372faa9e752f",
   "metadata": {},
   "outputs": [],
   "source": []
  },
  {
   "cell_type": "code",
   "execution_count": null,
   "id": "b9d25414-3d77-4f8d-910f-e38a2b4e199b",
   "metadata": {},
   "outputs": [],
   "source": []
  },
  {
   "cell_type": "code",
   "execution_count": null,
   "id": "5c98b51c-c3c6-484d-84a0-ad77da7bfb5f",
   "metadata": {},
   "outputs": [],
   "source": []
  },
  {
   "cell_type": "code",
   "execution_count": null,
   "id": "ada50884-099e-41c6-b3d0-f2e1bd5033cd",
   "metadata": {},
   "outputs": [],
   "source": []
  },
  {
   "cell_type": "code",
   "execution_count": null,
   "id": "3f1044a7-13f3-41e5-9c37-61eee5cc3980",
   "metadata": {},
   "outputs": [],
   "source": []
  },
  {
   "cell_type": "code",
   "execution_count": null,
   "id": "49e0612c-b40e-4184-9540-5cfbf73f8263",
   "metadata": {},
   "outputs": [],
   "source": []
  },
  {
   "cell_type": "code",
   "execution_count": null,
   "id": "8aa79024-069c-4356-83d4-14dec1d816de",
   "metadata": {},
   "outputs": [],
   "source": []
  },
  {
   "cell_type": "code",
   "execution_count": null,
   "id": "3e05dc47-21a5-46c4-a986-24c54043e949",
   "metadata": {},
   "outputs": [],
   "source": []
  },
  {
   "cell_type": "code",
   "execution_count": null,
   "id": "b279481a-d80b-4694-96a3-297d9ea9b3a0",
   "metadata": {},
   "outputs": [],
   "source": []
  },
  {
   "cell_type": "code",
   "execution_count": null,
   "id": "132faa46-e7a0-4a8f-8f85-b2c5713af482",
   "metadata": {},
   "outputs": [],
   "source": []
  },
  {
   "cell_type": "code",
   "execution_count": null,
   "id": "0b42472b-c918-494e-9a71-f1de6917a56b",
   "metadata": {},
   "outputs": [],
   "source": []
  },
  {
   "cell_type": "code",
   "execution_count": null,
   "id": "5f2924d6-9a93-4e46-9a43-87b8978498f9",
   "metadata": {},
   "outputs": [],
   "source": []
  },
  {
   "cell_type": "code",
   "execution_count": null,
   "id": "81998dbd-745f-4f95-b2de-1c363f2ed6ab",
   "metadata": {},
   "outputs": [],
   "source": []
  },
  {
   "cell_type": "code",
   "execution_count": null,
   "id": "3a6c1969-154a-41bc-8c01-4042f61fbd4d",
   "metadata": {},
   "outputs": [],
   "source": []
  },
  {
   "cell_type": "code",
   "execution_count": null,
   "id": "b9667fd8-edb7-4515-8243-70a85d8ae3f1",
   "metadata": {},
   "outputs": [],
   "source": []
  },
  {
   "cell_type": "code",
   "execution_count": null,
   "id": "6c14c971-17a7-4581-a549-4d78d1c95692",
   "metadata": {},
   "outputs": [],
   "source": []
  }
 ],
 "metadata": {
  "kernelspec": {
   "display_name": "Python 3 (ipykernel)",
   "language": "python",
   "name": "python3"
  },
  "language_info": {
   "codemirror_mode": {
    "name": "ipython",
    "version": 3
   },
   "file_extension": ".py",
   "mimetype": "text/x-python",
   "name": "python",
   "nbconvert_exporter": "python",
   "pygments_lexer": "ipython3",
   "version": "3.11.4"
  }
 },
 "nbformat": 4,
 "nbformat_minor": 5
}
